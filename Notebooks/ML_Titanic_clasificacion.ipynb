{
 "cells": [
  {
   "cell_type": "markdown",
   "metadata": {},
   "source": [
    "# <span style=\"color: #007BFF; font-size: 24px; font-weight: bold;\">Bienvenidos al Bootcamp Data Science & Analítica de Datos I - RMS TITANIC </span>\n",
    "<div style=\"font-family: 'Arial', sans-serif; font-size: 16px; line-height: 1.6; color: #333;\">\n",
    "    \n",
    "- [Capítulo 1: Sobre los Datos ](#EDA-Titanic)\n",
    "- [Capítulo 2: Visualizaciones Titanic ](#visualizacion)\n",
    "- [Capítulo 3: ML y algoritmos de Clasificación ](#modelos-clasificacion)"
   ]
  },
  {
   "cell_type": "markdown",
   "metadata": {},
   "source": [
    "<div style=\"font-family: 'Arial', sans-serif; font-size: 16px; line-height: 1.6; color: #333;\">\n",
    "\n",
    "\n",
    "**¿Cómo podría haber ayudado la IA?**\n"
   ]
  },
  {
   "cell_type": "markdown",
   "metadata": {},
   "source": [
    "<figure>\n",
    "<center>\n",
    "<img src='https://upload.wikimedia.org/wikipedia/commons/thumb/f/fd/RMS_Titanic_3.jpg/1920px-RMS_Titanic_3.jpg' width=\"650\" height=\"250\" />\n",
    "<figcaption></figcaption></center>\n",
    "</figure>"
   ]
  },
  {
   "cell_type": "code",
   "execution_count": 1,
   "metadata": {},
   "outputs": [],
   "source": [
    "# importamos librerias para procesamiero de datos y gráficas\n",
    "import os\n",
    "import pandas as pd\n",
    "import numpy as np\n",
    "import seaborn as sns\n",
    "import warnings\n",
    "import matplotlib.pyplot as plt\n",
    "import statsmodels.api as sm\n",
    "%matplotlib inline\n",
    "\n",
    "# Ignore warnings\n",
    "warnings.filterwarnings('ignore')\n",
    "warnings.simplefilter(action=\"ignore\", category=FutureWarning)\n",
    "plt.rcParams[\"figure.figsize\"] = [10, 5]\n",
    "\n",
    "# importamos librerias para modelos de clasificación \n",
    "from sklearn.preprocessing import StandardScaler, LabelEncoder\n",
    "from sklearn.model_selection import train_test_split\n",
    "from sklearn.linear_model import LogisticRegression\n",
    "from sklearn.tree import DecisionTreeClassifier, plot_tree\n",
    "from sklearn.ensemble import RandomForestClassifier\n",
    "from sklearn.metrics import confusion_matrix, classification_report, accuracy_score, precision_score\n",
    "\n",
    "pd.set_option('display.max_rows', None)\n",
    "pd.set_option('display.max_columns', None)"
   ]
  },
  {
   "cell_type": "markdown",
   "metadata": {},
   "source": [
    "<a id=\"EDA-Titanic\"></a>\n",
    "\n",
    "# **Capítulo 1: Sobre los Datos**\n",
    "\n",
    "**Vamos a extraer nuestros datos del *Titanic* desde el archivo .csv, crear un DataFrame de pandas y revisar los indicadores disponibles. Este conjunto de datos contiene información de 891 pasajeros con 12 atributos diferentes:**\n",
    "\n",
    "Variable                  | Descripción                                                                      | Tipo\n",
    "--------------------------|----------------------------------------------------------------------------------|------------------------------\n",
    "**Sobrevivió (Survived)** | Resultado de la supervivencia (0 = No; 1 = Sí)                                   | *Variable binaria*\n",
    "**Clase (Pclass)**        | Clase socioeconómica (1 = Clase alta; 2 = Clase media; 3 = Clase baja)           | *Variable categórica ordinal*\n",
    "**Nombre (Name)**         | Nombre del pasajero                                                              | *Variable de texto*\n",
    "**Sexo (Sex)**            | Sexo del pasajero                                                                | *Variable categórica nominal*\n",
    "**Edad (Age)**            | Edad del pasajero (Algunas entradas contienen NaN)                               | *Variable numérica continua*\n",
    "**SibSp**                 | Número de hermanos y cónyuges del pasajero a bordo                               | *Variable numérica discreta*\n",
    "**Parch**                 | Número de padres e hijos del pasajero a bordo                                    | *Variable numérica discreta*\n",
    "**Ticket**                | Número de boleto del pasajero                                                    | *Variable de texto*\n",
    "**Tarifa (Fare)**         | Tarifa pagada por el pasajero                                                    | *Variable numérica continua*\n",
    "**Cabina (Cabin)**        | Número de cabina del pasajero (Algunas entradas contienen NaN)                   | *Variable de texto*\n",
    "**Embarcado (Embarked)**  | Puerto de embarque del pasajero (C = Cherburgo; Q = Queenstown; S = Southampton) | *Variable categórica nominal*\n",
    " \n",
    "\n",
    "\n",
    "Con el siguiente comando podemos extraer información almacenada en archivos csv, empleando la librería pandas, abreviada como pd. Para ello, apuntaremos a la URL en la que se encuentran almacenados los datos."
   ]
  },
  {
   "cell_type": "code",
   "execution_count": 2,
   "metadata": {},
   "outputs": [],
   "source": [
    "full_data = pd.read_csv('../Data/Inputs/Titanic-Dataset.csv')"
   ]
  },
  {
   "cell_type": "markdown",
   "metadata": {},
   "source": [
    "Ahora, podemos explorar diferentes atributos del ABT. Haciendo mención del abt y llamando el método shape, podemos obtener la dimensión de nuestro dataframe."
   ]
  },
  {
   "cell_type": "code",
   "execution_count": null,
   "metadata": {},
   "outputs": [],
   "source": [
    "full_data.shape"
   ]
  },
  {
   "cell_type": "markdown",
   "metadata": {},
   "source": [
    "¡Muy bien! Encontramos que nuestro abt tiene 891 registros de 12 columnas o campos diferentes. \n",
    "\n",
    "Para explorar estos campos, hacemos uso del método head(). Este método va a retornar las 5 primeras filas del dataframe por default, pero si incluímos cualquier número entero positivo, nos retornará esa cantidad de filas. "
   ]
  },
  {
   "cell_type": "code",
   "execution_count": null,
   "metadata": {},
   "outputs": [],
   "source": [
    "full_data.head()"
   ]
  },
  {
   "cell_type": "code",
   "execution_count": null,
   "metadata": {},
   "outputs": [],
   "source": [
    "full_data.head(10)"
   ]
  },
  {
   "cell_type": "markdown",
   "metadata": {},
   "source": [
    "Así, observamos los diferentes campos que tiene el abt. Previamente se mencionó que significa cada uno de los campos.\n",
    "\n",
    "### **Ejercicio #1:**\n",
    "\n",
    "Ahora, es tu turno de completar las definiciones de algunos tipos de variable del abt.\n",
    "\n",
    "- PassengerId: variable categórica nominal.\n",
    "- Age: variable numérica discreta.\n",
    "- Survived: variable _____.\n",
    "- Pclass: variable ____.\n",
    "- Sex: variable ____.\n",
    "- Parch: variable ____.\n",
    "- Fare: variable ____.\n",
    "- Cabin: variable ____.\n",
    "- Embarked: variable ____."
   ]
  },
  {
   "cell_type": "markdown",
   "metadata": {},
   "source": [
    "<span style=\"color: #007BFF; font-size: 24px; font-weight: bold; border: 2px solid #007BFF; padding: 10px; background-color: #EFEFEF; display: block; width: 100%;\">1.1. Atributos de los datos</span>"
   ]
  },
  {
   "cell_type": "markdown",
   "metadata": {},
   "source": [
    "Ahora, podemos explorar los atributos y formatos de nuestros datos en el abt. Esto es independiente del tipo de variable que refleje cada uno de los datos.\n",
    "\n",
    "Acá podemos encontrar diversos tipos de dato. Para el ejercicio, tenemos los siguientes:\n",
    "\n",
    "- int64: refleja una variable con valores numéricos enteros.\n",
    "- float64: refleja una variable con valores numéricos decimales.\n",
    "- object: refleja una variable con una cadena de texto.\n",
    "\n",
    "Para revisar estos tipos de dato, podemos hacer uso del método info() sobre nuestro abt."
   ]
  },
  {
   "cell_type": "code",
   "execution_count": null,
   "metadata": {},
   "outputs": [],
   "source": [
    "full_data.info()"
   ]
  },
  {
   "cell_type": "markdown",
   "metadata": {},
   "source": [
    "<span style=\"color: #007BFF; font-size: 24px; font-weight: bold; border: 2px solid #007BFF; padding: 10px; background-color: #EFEFEF; display: block; width: 100%;\">1.2. Exploración descriptiva</span>"
   ]
  },
  {
   "cell_type": "markdown",
   "metadata": {},
   "source": [
    "Para hacer una exploración **descriptiva** inicial de las variables, podemos emplear el método describe() sobre nuestro abt. Este nos retornará diferentes estadísticas descriptivas de las variables como:\n",
    "\n",
    "**Aplican para todo tipo de variable**\n",
    "- count: cantidad de registros.\n",
    "\n",
    "**Solo aplican para variables object**\n",
    "- unique: cantidad de registros únicos.\n",
    "- top: valor más frecuente.\n",
    "- freq: cantidad de observaciones del valor top.\n",
    "\n",
    "**Solo aplican para variables numéricas**\n",
    "- mean: valor promedio de la variable.\n",
    "- std: desviación estándar de la variable.\n",
    "- min: valor mínimo de la variable.\n",
    "- 25%: percentil 25 de la variable.\n",
    "- 50%: percentil 50 de la variable.\n",
    "- 70%: percentil 75 de la variable.\n",
    "- max: valor máximo de la variable."
   ]
  },
  {
   "cell_type": "code",
   "execution_count": null,
   "metadata": {},
   "outputs": [],
   "source": [
    "summary = full_data.describe(include = 'all')\n",
    "print(summary)"
   ]
  },
  {
   "cell_type": "code",
   "execution_count": null,
   "metadata": {},
   "outputs": [],
   "source": []
  },
  {
   "cell_type": "markdown",
   "metadata": {},
   "source": [
    "Este método está calculando las estadísticas descriptivas ligadas al tipo de objeto en que se almacena cada variable. \n",
    "\n",
    "**¿Es relevante calcular la media, desviación estándar y percentiles de una variable como el número de identificación?** No lo es, porque conocemos que esta variable es una variable categórica nominal, a pesar de que se guarda en un tipo de dato numérico.\n",
    "\n",
    "Otras variables con esta misma problemática son Pclass, que conocemos que es una variable categórica ordinal; y el número del ticket, que conocemos que es una variable categórica nominal.\n",
    "\n",
    "## **Variables numéricas**\n",
    "\n",
    "### Univariado\n",
    "\n",
    "Haciendo un foco específicamente a las variables numéricas, podemos llamar específicamente alguna de las estadísticas descriptivas.\n",
    "\n",
    "Por ejemplo, podemos estimar el promedio de la variable age (edad) de la siguiente forma:"
   ]
  },
  {
   "cell_type": "code",
   "execution_count": null,
   "metadata": {},
   "outputs": [],
   "source": [
    "full_data.Age.mean()"
   ]
  },
  {
   "cell_type": "markdown",
   "metadata": {},
   "source": [
    "También se pueden calcular otras estadísticas descriptivas, como la desviación estándar, el mínimo, máximo, y algun percentil.\n",
    "\n",
    "- Desviación estándar: full_data.Age.std()\n",
    "- Mínimo: full_data.Age.min()\n",
    "- Máximo: full_data.Age.max()\n",
    "- Percentil 25: full_data.Age.quantile(0.25)"
   ]
  },
  {
   "cell_type": "code",
   "execution_count": 9,
   "metadata": {},
   "outputs": [],
   "source": [
    "## Tu código para la desviación estándar de Fare va aquí"
   ]
  },
  {
   "cell_type": "code",
   "execution_count": 10,
   "metadata": {},
   "outputs": [],
   "source": [
    "## Tu código para el valor máximo de Fare va aquí"
   ]
  },
  {
   "cell_type": "code",
   "execution_count": 11,
   "metadata": {},
   "outputs": [],
   "source": [
    "## Tu código para el percentil 90 de Fare va aquí"
   ]
  },
  {
   "cell_type": "markdown",
   "metadata": {},
   "source": [
    "### Bivariado\n",
    "\n",
    "También podemos hacer una revisión de las correlaciones entre dos variables. "
   ]
  },
  {
   "cell_type": "code",
   "execution_count": null,
   "metadata": {},
   "outputs": [],
   "source": [
    "full_data.Age.corr(full_data.Fare)"
   ]
  },
  {
   "cell_type": "markdown",
   "metadata": {},
   "source": [
    "De esto, obtenemos que la correlación entre la edad del pasajero y el valor del ticket pagado es de 0.09, lo cual es una correlación baja teniendo en cuenta que los valores pueden ir de -1 a 1, donde -1 refleja una correlación perfecta negativa, y 1 una correlación perfecta positiva.\n",
    "\n",
    "## **Variables categóricas**\n",
    "\n",
    "### Univariado\n",
    "\n",
    "Podemos obtener una representación de una tabla de frecuencias de las variables categóricas de la base. Por ejemplo, para la variable que refleja el puerto de embarcación:\n"
   ]
  },
  {
   "cell_type": "code",
   "execution_count": null,
   "metadata": {},
   "outputs": [],
   "source": [
    "full_data['Embarked'].value_counts()"
   ]
  },
  {
   "cell_type": "markdown",
   "metadata": {},
   "source": [
    "Donde observamos que el puerto más frecuente de embarcación es S, que representa el puerto de Southampton.\n",
    "\n",
    "También podemos obtener esto de forma relativa, es decir, los porcentajes de cada puerto para el total de la base. Para ello se debe incluir *normalize=True* en el paréntesis del método."
   ]
  },
  {
   "cell_type": "code",
   "execution_count": null,
   "metadata": {},
   "outputs": [],
   "source": [
    "full_data['Embarked'].value_counts(normalize = True)"
   ]
  },
  {
   "cell_type": "markdown",
   "metadata": {},
   "source": [
    "Observamos que el 72.44% de la base proviene del puerto de Southampton, y el restante de los puertos de Cherburgo (C) y Queenstown (Q).\n",
    "\n",
    "### Bivariado\n",
    "\n",
    "Podemos obtener una tabla cruzada entre dos variables categóricas, como pueden ser el la clase (Pclass) y género (Sex)."
   ]
  },
  {
   "cell_type": "code",
   "execution_count": null,
   "metadata": {},
   "outputs": [],
   "source": [
    "pd.crosstab(full_data['Pclass'], full_data['Sex'])"
   ]
  },
  {
   "cell_type": "markdown",
   "metadata": {},
   "source": [
    "Donde observamos que lo más frecuente es ser hombres de clase baja (clase 3).\n",
    "\n",
    "Esto también se puede establecer en porcentajes o frecuencias relativas, incluyendo el parámetro de *normalize = True* en el método."
   ]
  },
  {
   "cell_type": "code",
   "execution_count": null,
   "metadata": {},
   "outputs": [],
   "source": [
    "pd.crosstab(full_data['Pclass'], full_data['Sex'], normalize = True)"
   ]
  },
  {
   "cell_type": "markdown",
   "metadata": {},
   "source": [
    "Encontramos que el 38.94% de los pasajeros son hombres de clase baja. Un 10.54% son de los pasajeros son mujeres de clase alta.\n",
    "\n",
    "<span style=\"color: #007BFF; font-size: 24px; font-weight: bold; border: 2px solid #007BFF; padding: 10px; background-color: #EFEFEF; display: block; width: 100%;\">1.3. Manejo de la base</span>\n",
    "\n",
    "## **Filtrado de la base**\n",
    "\n",
    "Para el propósito del ejercicio, conocemos que existen algunas variables que no nos aportan mucha información más allá de poder identificar al pasajero. Estas variables son:\n",
    "\n",
    "- Nombre del pasajero.\n",
    "- Id del pasajero.\n",
    "- Número de ticket del pasajero.\n",
    "- Cabina del pasajero.\n",
    "\n",
    "Estas variables se pueden borrar del dataframe de la siguiente forma, y se van separando por ',' en el listado:\n"
   ]
  },
  {
   "cell_type": "code",
   "execution_count": 17,
   "metadata": {},
   "outputs": [],
   "source": [
    "full_data = full_data.drop(['Name', 'PassengerId', 'Ticket', 'Cabin'], axis = 1)"
   ]
  },
  {
   "cell_type": "markdown",
   "metadata": {},
   "source": [
    "Explorando el abt, observaremos que no están las variables eliminadas."
   ]
  },
  {
   "cell_type": "code",
   "execution_count": null,
   "metadata": {},
   "outputs": [],
   "source": [
    "full_data.head()"
   ]
  },
  {
   "cell_type": "markdown",
   "metadata": {},
   "source": [
    "<span style=\"color: #007BFF; font-size: 24px; font-weight: bold; border: 2px solid #007BFF; padding: 10px; background-color: #EFEFEF; display: block; width: 100%;\">1.4. Tratamiento de valores faltantes</span>\n",
    "\n",
    "Nuestro ABT puede tener una gran variedad de problemas. Entre ellos, el hecho de que puedan existir datos faltantes en alguna de las variables.\n",
    "\n",
    "Podemos obtener la cantidad de datos faltantes de cada uno de nuestros campos con el método isnull().sum() sobre nuestro abt."
   ]
  },
  {
   "cell_type": "code",
   "execution_count": null,
   "metadata": {},
   "outputs": [],
   "source": [
    "full_data.isnull().sum()"
   ]
  },
  {
   "cell_type": "markdown",
   "metadata": {},
   "source": [
    "Encontramos que únicamente la variable edad (177 valores nulos) y el puerto de embarcación (2) tienen valores faltantes.\n",
    "\n",
    "Para tratar estos casos, hay diferentes alternativas:\n",
    "\n",
    "1. Imputación de los datos con algún método: puede ser útil si tenemos forma de segmentar los datos por poblaciones pequeñas.\n",
    "2. Eliminar los datos: puede ser útil en poblaciones grandes donde perder un porcentaje de la población no es relevante.\n",
    "3. No hacer nada: puede ser relevante si el hecho de que haya un valor perdido tiene un significado sobre la base.\n",
    "\n",
    "### **Imputación - Variable Age**\n",
    "\n",
    "En este caso, no tenemos la información completa de la variable edad, que es muy útil para describir a la población.\n",
    "\n",
    "Teniendo en cuenta que la población es pequeña, y que la variable edad puede ser muy relevante, decidimos imputarla con algún método.\n",
    "\n",
    "El método seleccionado es imputar con la mediana segmentando por las variables género (Sex) y clase (Pclass)."
   ]
  },
  {
   "cell_type": "code",
   "execution_count": 20,
   "metadata": {},
   "outputs": [],
   "source": [
    "full_data['Age'] = full_data.groupby(['Sex', 'Pclass'])['Age'].transform(lambda x: x.fillna(x.mean()))"
   ]
  },
  {
   "cell_type": "markdown",
   "metadata": {},
   "source": [
    "Validamos que la información se encuentre completa, volviendo a contar la cantidad de valores faltantes para la columna edad."
   ]
  },
  {
   "cell_type": "code",
   "execution_count": null,
   "metadata": {},
   "outputs": [],
   "source": [
    "full_data['Age'].isnull().sum()"
   ]
  },
  {
   "cell_type": "markdown",
   "metadata": {},
   "source": [
    "### **Imputación - Variable Embarked**\n",
    "\n",
    "También vamos a imputar la variable Embarked, que tiene solo 2 valores faltantes.\n",
    " \n",
    "Emplearemos la misma segmentación de género (Sex) y clase del tiquete (Pclass), y se imputará con el valor más frecuente de esas categorías."
   ]
  },
  {
   "cell_type": "code",
   "execution_count": 22,
   "metadata": {},
   "outputs": [],
   "source": [
    "full_data['Embarked'] = full_data.groupby(['Sex', 'Pclass'])['Embarked'].transform(lambda x: x.fillna(x.mode()[0]))"
   ]
  },
  {
   "cell_type": "markdown",
   "metadata": {},
   "source": [
    "Validamos que la información se encuentre completa, volviendo a contar la cantidad de valores faltantes para la columna Embarked."
   ]
  },
  {
   "cell_type": "code",
   "execution_count": null,
   "metadata": {},
   "outputs": [],
   "source": [
    "full_data['Embarked'].isnull().sum()"
   ]
  },
  {
   "cell_type": "markdown",
   "metadata": {},
   "source": [
    "<span style=\"color: #007BFF; font-size: 24px; font-weight: bold; border: 2px solid #007BFF; padding: 10px; background-color: #EFEFEF; display: block; width: 100%;\">1.5. Tratamiento variables  ordinales y categóricas</span>"
   ]
  },
  {
   "cell_type": "code",
   "execution_count": null,
   "metadata": {},
   "outputs": [],
   "source": [
    "full_data.Pclass.value_counts()"
   ]
  },
  {
   "cell_type": "markdown",
   "metadata": {},
   "source": [
    "Conocemos que la única variable categórica ordinal que existe en nuestro dataset es la clase (Pclass), donde 3 es la clase más baja y 1 es la más alta.\n",
    "\n",
    "Podemos definir el orden de las clases en un listado, mencionandolas de la más alta (1. Clase alta) a la más baja (3. Clase baja)."
   ]
  },
  {
   "cell_type": "code",
   "execution_count": 25,
   "metadata": {},
   "outputs": [],
   "source": [
    "pclass_categories = [1, 2, 3]  # Define el orden de las clases"
   ]
  },
  {
   "cell_type": "markdown",
   "metadata": {},
   "source": [
    "Posteriormente, podemos crear las variables categoricas ordinales de la siguiente forma:"
   ]
  },
  {
   "cell_type": "code",
   "execution_count": 26,
   "metadata": {},
   "outputs": [],
   "source": [
    "full_data['Pclass'] = pd.Categorical(full_data['Pclass'], categories = pclass_categories, ordered = True)"
   ]
  },
  {
   "cell_type": "markdown",
   "metadata": {},
   "source": [
    "Y podemos validar que ahora el tipo de variable es categórica:"
   ]
  },
  {
   "cell_type": "code",
   "execution_count": null,
   "metadata": {},
   "outputs": [],
   "source": [
    "full_data.info()"
   ]
  },
  {
   "cell_type": "markdown",
   "metadata": {},
   "source": [
    "## **Label Encoding y One-Hot Encoding**\n",
    "\n",
    "son dos técnicas comunes para convertir variables categóricas en representaciones numéricas que pueden ser utilizadas por modelos de machine learning. Sin embargo, tienen diferencias clave en cómo transforman los datos y cómo los modelos interpretan estas representaciones.\n",
    "\n",
    "### Label Encoding\n",
    "\n",
    "Asigna un número entero único a cada categoría de la variable. Adecuado para Variables Ordinales: Funciona bien cuando las categorías tienen un orden natural (por ejemplo, Bajo, Medio, Alto)."
   ]
  },
  {
   "cell_type": "code",
   "execution_count": 28,
   "metadata": {},
   "outputs": [],
   "source": [
    "cat_features = ['Sex']\n",
    "\n",
    "# Codificar variables categóricas\n",
    "label_encoders = {}\n",
    "for col in cat_features:\n",
    "    le = LabelEncoder()\n",
    "    full_data[col] = le.fit_transform(full_data[col].astype(str))\n",
    "    label_encoders[col] = le"
   ]
  },
  {
   "cell_type": "markdown",
   "metadata": {},
   "source": [
    "### One-Hot Encoding\n",
    "\n",
    "Convierte cada categoría en una nueva columna binaria, donde cada columna contiene un 1 o 0 para indicar la presencia o ausencia de la categoría."
   ]
  },
  {
   "cell_type": "code",
   "execution_count": 29,
   "metadata": {},
   "outputs": [],
   "source": [
    "# Aplicamos One Hot Encoding a la columna 'Embarked'\n",
    "embarked_dummies = pd.get_dummies(full_data['Embarked'], prefix='Embarked')\n",
    "\n",
    "# Concatenamos las nuevas columnas al DataFrame original\n",
    "full_data = pd.concat([full_data, embarked_dummies], axis=1)"
   ]
  },
  {
   "cell_type": "code",
   "execution_count": null,
   "metadata": {},
   "outputs": [],
   "source": [
    "full_data.head()"
   ]
  },
  {
   "cell_type": "markdown",
   "metadata": {},
   "source": [
    "<span style=\"color: #007BFF; font-size: 24px; font-weight: bold; border: 2px solid #007BFF; padding: 10px; background-color: #EFEFEF; display: block; width: 100%;\">1.6. Identificacion y tratamiento de valores Outliers</span>\n",
    "\n",
    "El tratamiento de valores outliers (valores atípicos) en un dataset es un paso importante en el preprocesamiento de datos, ya que los outliers pueden influir negativamente en los modelos estadísticos y de machine learning.\n",
    "\n",
    "\n",
    "Utilizar gráficos como boxplots, scatter plots, y histograms para visualizar y detectar outliers.\n",
    "\n",
    "* **Método de los Cuartiles (IQR)**: Los valores que están por debajo de Q1 - 1.5 * IQR o por encima de Q3 + 1.5 * IQR se consideran outliers.\n",
    "* **Z-Score**: Los valores que están a más de un cierto número de desviaciones estándar de la media (por ejemplo, 3 desviaciones estándar) son considerados outliers.\n",
    "\n"
   ]
  },
  {
   "cell_type": "code",
   "execution_count": null,
   "metadata": {},
   "outputs": [],
   "source": [
    "sns.histplot(full_data['Fare'],kde=False)\n",
    "plt.show()"
   ]
  },
  {
   "cell_type": "code",
   "execution_count": null,
   "metadata": {},
   "outputs": [],
   "source": [
    "# Verificar el resultado\n",
    "print(full_data['Fare'].describe())"
   ]
  },
  {
   "cell_type": "markdown",
   "metadata": {},
   "source": [
    "### Métodos de Tratamiento de Outliers:\n",
    "\n",
    "Identificación: El rango intercuartílico (IQR) es la diferencia entre el tercer cuartil (Q3) y el primer cuartil (Q1). Los valores fuera del rango [Q1 - 1.5 * IQR, Q3 + 1.5 * IQR] son considerados outliers."
   ]
  },
  {
   "cell_type": "code",
   "execution_count": null,
   "metadata": {},
   "outputs": [],
   "source": [
    "##  método IQR\n",
    "Q1 = full_data['Fare'].quantile(0.25)\n",
    "Q3 = full_data['Fare'].quantile(0.75)\n",
    "IQR = Q3 - Q1\n",
    "\n",
    "# Definir límites\n",
    "lower_bound = Q1 - 1.5 * IQR\n",
    "upper_bound = Q3 + 1.5 * IQR\n",
    "\n",
    "# Reemplazar valores por los límites inferiores o superiores\n",
    "full_data['Fare'] = full_data['Fare'].apply(lambda x: lower_bound if x < lower_bound else upper_bound if x > upper_bound else x)\n",
    "\n",
    "# Verificar el resultado\n",
    "print(full_data['Fare'].describe())"
   ]
  },
  {
   "cell_type": "code",
   "execution_count": null,
   "metadata": {},
   "outputs": [],
   "source": [
    "sns.histplot(full_data['Fare'],kde=False)"
   ]
  },
  {
   "cell_type": "code",
   "execution_count": 35,
   "metadata": {},
   "outputs": [],
   "source": [
    "df_0 = full_data.copy()"
   ]
  },
  {
   "cell_type": "markdown",
   "metadata": {},
   "source": [
    "<a id=\"visualizacion\"></a>\n",
    "# **Capítulo 2: Visualizaciones Titanic**\n",
    "\n",
    "\n",
    "<figure>\n",
    "<center>\n",
    "<img src='https://dantaanalytics.com/wp-content/uploads/2020/10/data-visualization.jpg' width=\"650\" height=\"450\" />\n",
    "<figcaption></figcaption></center>\n",
    "</figure>\n",
    "\n",
    "\n",
    "\n",
    "\n",
    "La visualización de datos es una herramienta esencial en la ciencia de datos que permite transformar datos complejos en representaciones visuales fáciles de interpretar. A través de gráficos, diagramas y otros elementos visuales, es posible identificar patrones, tendencias y relaciones en los datos que de otra manera podrían pasar desapercibidos.\n",
    "\n",
    "En el contexto de la clasificación binaria, como en el caso de los sobrevivientes del Titanic, la visualización de datos juega un papel crucial. Al analizar datos de pasajeros como edad, género, clase de boleto y su estado de supervivencia, las visualizaciones permiten descubrir rápidamente cuáles de estos factores influyeron más en la probabilidad de sobrevivir. Por ejemplo, un gráfico de barras puede mostrar de manera clara cómo la tasa de supervivencia varía según la clase de boleto o el género."
   ]
  },
  {
   "cell_type": "code",
   "execution_count": 36,
   "metadata": {},
   "outputs": [],
   "source": [
    "full_data = pd.read_csv('../Data/Inputs/Titanic-Dataset.csv')"
   ]
  },
  {
   "cell_type": "code",
   "execution_count": null,
   "metadata": {},
   "outputs": [],
   "source": [
    "print(full_data.shape)\n",
    "full_data.head()"
   ]
  },
  {
   "cell_type": "markdown",
   "metadata": {},
   "source": [
    "<span style=\"color: #007BFF; font-size: 24px; font-weight: bold; border: 2px solid #007BFF; padding: 10px; background-color: #EFEFEF; display: block; width: 100%;\">2.1.  Gráficos de cantidades</span>\n",
    "\n",
    "### **Gráficos de Barras**\n",
    "\n",
    "Utilizados para comparar diferentes categorías entre sí. Las barras pueden ser verticales u horizontales.\n",
    "\n"
   ]
  },
  {
   "cell_type": "code",
   "execution_count": null,
   "metadata": {},
   "outputs": [],
   "source": [
    "# Grafico de barras horizontales\n",
    "plt.figure(figsize=(5, 4))\n",
    "sns.countplot(x='Pclass', data=full_data)"
   ]
  },
  {
   "cell_type": "code",
   "execution_count": null,
   "metadata": {},
   "outputs": [],
   "source": [
    "# Grafico de barras verticales\n",
    "plt.figure(figsize=(5, 4))\n",
    "sns.countplot(y='Pclass', data=full_data, palette='viridis')\n",
    "\n",
    "# Añadir etiquetas y título\n",
    "plt.ylabel('Clase')\n",
    "plt.xlabel('Número de Pasajeros')\n",
    "plt.title('Distribución de Pasajeros por Clase')"
   ]
  },
  {
   "cell_type": "markdown",
   "metadata": {},
   "source": [
    "**Se observa que la mayor cantidad de pasajeros eran de la clase 3**\n",
    "\n",
    "### **Gráfico de barras abierto por otra variable categórica**"
   ]
  },
  {
   "cell_type": "code",
   "execution_count": null,
   "metadata": {},
   "outputs": [],
   "source": [
    "# Gráfico de barras para dos variables categóricas \n",
    "plt.figure(figsize=(7,5))\n",
    "sns.countplot(x='Pclass', hue='Sex', data=full_data)"
   ]
  },
  {
   "cell_type": "markdown",
   "metadata": {},
   "source": [
    "**Se puede ver que la clase 3 tiene más mujeres que las otras clases, sin embargo, la proporción respecto de los hombres de esa clase es mucho menor**\n",
    "\n",
    "**Otro ejemplo**: gráfico de barras por Género y Clase, comparando total pasajeros vs sobreviviente"
   ]
  },
  {
   "cell_type": "code",
   "execution_count": null,
   "metadata": {},
   "outputs": [],
   "source": [
    "fig, axs = plt.subplots(2, 1, figsize=(8, 6))\n",
    "# Configuración de colores\n",
    "palette = [\"#f9dbbd\", \"#DA627D\", \"#450920\"]  # Paleta azul para las clases\n",
    "\n",
    "# Primer gráfico: Número absoluto de pasajeros por Sexo y Clase\n",
    "sns.countplot(x=\"Sex\", hue=\"Pclass\", data=full_data, palette=palette, ax=axs[0])\n",
    "axs[0].set_title(\"Número absoluto de pasajeros por Sexo y Clase\")\n",
    "axs[0].set_xlabel(\"Sexo\")\n",
    "axs[0].set_ylabel(\"Pasajeros\")\n",
    "axs[0].legend(title=\"Clase\")\n",
    "\n",
    "# Segundo gráfico: Número absoluto de sobrevivientes por Sexo y Clase\n",
    "sns.countplot(x=\"Sex\", hue=\"Pclass\", data=full_data[full_data.Survived==1], palette=palette, ax=axs[1])\n",
    "axs[1].set_title(\"Número absoluto de sobrevivientes por Sexo y Clase\")\n",
    "axs[1].set_xlabel(\"Sexo\")\n",
    "axs[1].set_ylabel(\"Sobrevivientes\")\n",
    "axs[1].legend(title=\"Clase\")\n",
    "\n",
    "# Ajuste de diseño para evitar superposiciones\n",
    "plt.tight_layout()\n",
    "plt.show()"
   ]
  },
  {
   "cell_type": "markdown",
   "metadata": {},
   "source": [
    " **Como podemos ver, sobrevivieron más mujeres que hombres.**\n",
    "\n",
    "<span style=\"color: #007BFF; font-size: 24px; font-weight: bold; border: 2px solid #007BFF; padding: 10px; background-color: #EFEFEF; display: block; width: 100%;\">2.2 Gráficos de Distribución</span>\n",
    "\n",
    "Los gráficos de distribución son herramientas visuales utilizadas para mostrar cómo se distribuyen los datos de una variable o conjunto de variables en un dataset. Estos gráficos ayudan a identificar patrones como la forma, dispersión, centralidad y presencia de outliers en los datos. Son fundamentales en el análisis exploratorio de datos porque permiten a los analistas entender rápidamente las características clave de los datos.\n",
    "\n",
    "## **Histograma**\n",
    "\n",
    "Es similar a un gráfico de barras, pero se utiliza para representar la distribución de una variable continua."
   ]
  },
  {
   "cell_type": "code",
   "execution_count": null,
   "metadata": {},
   "outputs": [],
   "source": [
    "plt.figure(figsize=(8,6))\n",
    "sns.histplot(full_data['Age'])\n",
    "plt.show()"
   ]
  },
  {
   "cell_type": "markdown",
   "metadata": {},
   "source": [
    "### **Gráfico o curva de densidad**\n",
    "\n",
    "Es una curva suavizada que muestra la distribución de los datos, proporcionando una visión más continua que el histograma. Generalmente se conoce como Curva de Densidad Estimada (KDE)"
   ]
  },
  {
   "cell_type": "code",
   "execution_count": null,
   "metadata": {},
   "outputs": [],
   "source": [
    "plt.figure(figsize=(8,6))\n",
    "sns.distplot(full_data['Age'], hist=False)\n",
    "plt.show()"
   ]
  },
  {
   "cell_type": "code",
   "execution_count": null,
   "metadata": {},
   "outputs": [],
   "source": [
    "# gráfico de barras , incluyendo la desidad\n",
    "plt.figure(figsize=(8,6))\n",
    "\n",
    "sns.histplot(full_data['Age'], kde=True)\n",
    "plt.show()"
   ]
  },
  {
   "cell_type": "code",
   "execution_count": null,
   "metadata": {},
   "outputs": [],
   "source": [
    "#creación de histograma reduciendo el número de agrupaciones\n",
    "\n",
    "plt.figure(figsize=(8, 6))\n",
    "sns.histplot(full_data['Age'], bins=8, kde=False, color='blue')\n",
    "plt.title('Distribución de la Variable Edad')\n",
    "plt.xlabel('Edad')\n",
    "plt.ylabel('Frecuencia')\n",
    "plt.show()"
   ]
  },
  {
   "cell_type": "markdown",
   "metadata": {},
   "source": [
    "### **Diagramas de torta**\n",
    "\n",
    "\n",
    "Un diagrama de torta, también conocido como gráfico de pastel o gráfico circular, es un tipo de gráfico que se utiliza para representar la proporción de diferentes categorías dentro de un conjunto de datos. En este gráfico, los datos se visualizan como \"rebanadas\" de un círculo, donde el tamaño de cada rebanada es proporcional al porcentaje o proporción que esa categoría representa del total. Para entender mejor la composición de los pasajeros en el conjunto de datos, se puede utilizar un gráfico de torta. Este gráfico visualiza la proporción de cada categoría de género dentro del total de pasajeros.\n"
   ]
  },
  {
   "cell_type": "code",
   "execution_count": null,
   "metadata": {},
   "outputs": [],
   "source": [
    "# Crear el gráfico de torta para la distribución de género\n",
    "gender_counts = full_data['Sex'].value_counts()\n",
    "plt.figure(figsize=(6, 4))\n",
    "plt.pie(gender_counts, labels=gender_counts.index, autopct='%1.1f%%')\n",
    "plt.title('Distribución de Género de los Pasajeros')\n",
    "plt.show()"
   ]
  },
  {
   "cell_type": "markdown",
   "metadata": {},
   "source": [
    "### **Boxplot**\n",
    "\n",
    "Es una forma conveniente de visualizar la distribución de los datos a través de sus cuartiles. Los diagramas de caja suelen tener líneas verticales que se extienden desde las cajas, llamadas <strong>bigotes</strong>. Estos bigotes indican la variabilidad fuera de los cuartiles superior e inferior, por lo que los Boxplots también se conocen como <strong>diagrama de caja y bigotes</strong>. Los valores atípicos en los datos se representan como puntos individuales."
   ]
  },
  {
   "cell_type": "code",
   "execution_count": null,
   "metadata": {},
   "outputs": [],
   "source": [
    "plt.figure(figsize=(5,4))\n",
    "sns.boxplot(y=\"Age\", data=full_data)\n",
    "plt.show()"
   ]
  },
  {
   "cell_type": "markdown",
   "metadata": {},
   "source": [
    "Este tipo de gráficas las podemos utilizar para una gran variedad de casos. Por ejemplo, en el caso en que queremos ver la edad de las personas de manera rápida, pero separándolas por género."
   ]
  },
  {
   "cell_type": "code",
   "execution_count": null,
   "metadata": {},
   "outputs": [],
   "source": [
    "plt.figure(figsize=(8,6))\n",
    "sns.boxplot(x='Sex', y='Age', data=full_data)\n",
    "plt.title('Distribución de la Edad por Género')\n",
    "plt.xlabel('Género')\n",
    "plt.ylabel('Edad')\n",
    "plt.show()"
   ]
  },
  {
   "cell_type": "markdown",
   "metadata": {},
   "source": [
    "Otro ejemplo: ver la edad de las personas, separándolas por género y abierto por sobreviviente: si (1) , no (0)"
   ]
  },
  {
   "cell_type": "code",
   "execution_count": null,
   "metadata": {},
   "outputs": [],
   "source": [
    "plt.figure(figsize=(8,6))\n",
    "sns.boxplot(x=\"Sex\", y=\"Age\", hue=\"Survived\", data=full_data)\n",
    "plt.show()"
   ]
  },
  {
   "cell_type": "markdown",
   "metadata": {},
   "source": [
    "**En las mujeres el promedio de edad de las sobrevientes fue mayor que las no sobrevientes, mientras que en el caso de los hombres fue al contrario**"
   ]
  },
  {
   "cell_type": "markdown",
   "metadata": {},
   "source": [
    "### **Gráfico de Violin**\n",
    "\n",
    "Es similar a un boxplot, pero además muestra la densidad de la distribución de la variable.\n",
    "Ejemplo: Mostrar la distribución de la edad (Age) por clase (Pclass)."
   ]
  },
  {
   "cell_type": "code",
   "execution_count": null,
   "metadata": {},
   "outputs": [],
   "source": [
    "plt.figure(figsize=(8, 6))\n",
    "sns.violinplot(x=\"Pclass\", y=\"Age\", data=full_data, palette=\"Set1\")\n",
    "plt.title('Distribución de Edad por Clase')\n",
    "plt.xlabel('Clase')\n",
    "plt.ylabel('Edad')\n",
    "plt.show()"
   ]
  },
  {
   "cell_type": "markdown",
   "metadata": {},
   "source": [
    "### **Ejercicio práctico 1**\n",
    "\n",
    "hacer un gráfico que muestre la distribucion del numero de hermanos y conyuge por sitio de embarque. Use la gráfica que más le guste y genere al menos una conclusion de lo observado\n"
   ]
  },
  {
   "cell_type": "code",
   "execution_count": 51,
   "metadata": {},
   "outputs": [],
   "source": [
    "### inserte su código aqui"
   ]
  },
  {
   "cell_type": "markdown",
   "metadata": {},
   "source": [
    "<span style=\"color: #007BFF; font-size: 24px; font-weight: bold; border: 2px solid #007BFF; padding: 10px; background-color: #EFEFEF; display: block; width: 100%;\">2.3. Gráficos Relacionales</span>\n",
    "\n",
    "Los gráficos relacionales son herramientas fundamentales en el análisis de datos que nos permiten explorar y visualizar cómo se relacionan dos o más variables entre sí. Estos gráficos son especialmente útiles para entender las asociaciones y patrones que pueden no ser evidentes al observar los datos en forma tabular, permitiendo una comprensión más profunda de cómo una variable afecta o se relaciona con otra. Son útiles para identificar tendencias, correlaciones, y patrones en los datos. \n",
    "\n",
    "##### **2. Tipos de Gráficos Relacionales:**\n",
    "\n",
    "- **Gráfico de Dispersión (Scatter Plot):** Muestra la relación entre dos variables numéricas. Cada punto en el gráfico representa una observación en el conjunto de datos, con la posición en el eje X e Y correspondiente a los valores de las dos variables.\n",
    "  \n",
    "- **Gráfico de Líneas (Line Plot):** Ideal para visualizar la relación entre variables cuando una de ellas representa una medida de tiempo. Permite observar tendencias y cambios a lo largo del tiempo.\n",
    "  \n",
    "- **Gráfico de Relación (relplot):** Una función de Seaborn que permite crear gráficos de dispersión o de líneas con facilidad. La función <code>relplot()</code> es especialmente útil para crear gráficos que muestran cómo una variable se relaciona con otra, con opciones para ajustar el tipo de gráfico según el contexto."
   ]
  },
  {
   "cell_type": "markdown",
   "metadata": {},
   "source": [
    "### **Gráfico de dispersión (scatterplot)**\n",
    "\n",
    "<strong>Scatter plot</strong> es un tipo de gráfico que se utiliza para visualizar la relación entre dos variables numéricas. Cada punto en el gráfico representa un par de valores de las dos variables, con una variable en el eje X y la otra en el eje Y. Este tipo de gráfico es muy útil para detectar patrones, tendencias, correlaciones, y posibles anomalías entre las dos variables.\n"
   ]
  },
  {
   "cell_type": "code",
   "execution_count": null,
   "metadata": {},
   "outputs": [],
   "source": [
    "plt.figure(figsize=(8,6))\n",
    "sns.scatterplot(x=\"Age\", y=\"Fare\", hue=\"Sex\", data=full_data)\n",
    "plt.show()"
   ]
  },
  {
   "cell_type": "markdown",
   "metadata": {},
   "source": [
    "### **Gráfico de lineas (lineplot)**\n",
    "\n",
    "\n",
    "**Lineplot** es un tipo de gráfico utilizado para mostrar datos que varían a lo largo de un intervalo continuo, generalmente el tiempo. Es una de las herramientas más comunes en la visualización de datos y es ideal para mostrar tendencias, patrones o cambios en una variable dependiente en función de una variable independiente.Por defecto, el gráfico agrega sobre múltiples valores de **y** en cada valor de **x** y muestra una estimación de la tendencia central y un intervalo de confianza para esa estimación."
   ]
  },
  {
   "cell_type": "code",
   "execution_count": null,
   "metadata": {},
   "outputs": [],
   "source": [
    "plt.figure(figsize=(8,6))\n",
    "sns.lineplot(x=\"Age\", y=\"Fare\", hue=\"Sex\", data=full_data)\n",
    "plt.show()"
   ]
  },
  {
   "cell_type": "markdown",
   "metadata": {},
   "source": [
    "###  **Stripplot**\n",
    "\n",
    "\n",
    "Un **stripplot** es un tipo de gráfico que se utiliza para representar la distribución de una variable numérica a lo largo de una variable categórica mediante puntos.\n"
   ]
  },
  {
   "cell_type": "code",
   "execution_count": null,
   "metadata": {},
   "outputs": [],
   "source": [
    "plt.figure(figsize=(8,6))\n",
    "sns.stripplot(x=\"Sex\", y=\"Age\",hue='Sex', data=full_data)\n",
    "plt.show()"
   ]
  },
  {
   "cell_type": "markdown",
   "metadata": {},
   "source": [
    "### **swarmplot**\n",
    "\n",
    "Un swarmplot es un tipo de gráfico en Seaborn que se utiliza para visualizar la distribución de datos categóricos mediante la disposición de puntos de forma que no se superpongan, a diferencia del stripplot, donde los puntos pueden solaparse. En un swarmplot, los puntos se dispersan de manera que cada uno de ellos sea visible, lo que facilita la interpretación de la distribución y la densidad de los datos dentro de cada categoría.\n"
   ]
  },
  {
   "cell_type": "code",
   "execution_count": null,
   "metadata": {},
   "outputs": [],
   "source": [
    "plt.figure(figsize=(8,8))\n",
    "sns.swarmplot(x=\"Sex\", y=\"Age\",hue='Survived', data=full_data, palette = sns.color_palette(\"Set1\"), alpha = 0.7)\n",
    "\n",
    "plt.show()"
   ]
  },
  {
   "cell_type": "markdown",
   "metadata": {},
   "source": [
    "* Podemos decir que la mayoría de los pasajeros tienen aproximadamente entre 18 y 30 años\n",
    "* La mayoría de los pasajeros a bordo eran hombres\n",
    "* la mayoría de los supervivientes fueron mujeres"
   ]
  },
  {
   "cell_type": "markdown",
   "metadata": {},
   "source": [
    "###  **Pointplot**\n",
    "\n",
    "Los gráficos de puntos</strong> sirven para lo mismo que los <strong>gráficos de barras</strong>, pero en un estilo diferente. En lugar de una barra completa, el valor de la estimación se representa mediante un punto a una cierta altura en el otro eje. Se utiliza para mostrar la relación entre dos variables categóricas y una variable numérica. Es una herramienta útil para visualizar comparaciones de medias, proporciones u otros agregados estadísticos entre diferentes grupos categóricos.\n",
    "</div>"
   ]
  },
  {
   "cell_type": "code",
   "execution_count": null,
   "metadata": {},
   "outputs": [],
   "source": [
    "plt.subplots(figsize=(8, 6))\n",
    "sns.pointplot(x=\"Sex\", y=\"Survived\", hue=\"Pclass\", data=full_data)\n",
    "plt.show()"
   ]
  },
  {
   "cell_type": "markdown",
   "metadata": {},
   "source": [
    "**Podemos ver el número promedio de sobrevivientes de hombres y mujeres en cada clase. A partir del gráfico, podemos entender que una mayor proporsión de mujeres sobrevivió en comparación con los hombres. Tanto en hombres como en mujeres, la mayor cantidad de sobrevivientes proviene de la primera clase**"
   ]
  },
  {
   "cell_type": "markdown",
   "metadata": {},
   "source": [
    "### **Matriz de correlación y mapas de calor (heatmap)**\n",
    "\n",
    "Un heatmap o mapa de calor es un tipo de visualización gráfica que representa la magnitud de un fenómeno mediante el uso de colores en dos dimensiones. Es una herramienta útil para mostrar la relación entre dos variables (en los ejes X e Y) y para resaltar patrones, correlaciones, o distribuciones dentro de un conjunto de datos.\n",
    "\n",
    "Ahora vamos a trazar la matriz de correlación de nuestros datos con un heatmap."
   ]
  },
  {
   "cell_type": "code",
   "execution_count": null,
   "metadata": {},
   "outputs": [],
   "source": [
    "# Excluir campos por nombre\n",
    "columnas_a_excluir = ['Name', 'PassengerId','Ticket','Survived']\n",
    "data_analisis = full_data.drop(columns=columnas_a_excluir)\n",
    "\n",
    "# Selecciona solo columnas numéricas\n",
    "numeric_data = data_analisis.select_dtypes(include=['number'])\n",
    "\n",
    "# Calcular la matriz de correlación\n",
    "correlation_matrix = numeric_data.corr()\n",
    "\n",
    "# Crear el heatmap\n",
    "plt.figure(figsize=(8, 7))\n",
    "sns.heatmap(correlation_matrix, cmap=\"YlGnBu\", annot=True, fmt=\".2f\")\n",
    "plt.title(\"Matriz de Correlación\")\n",
    "plt.show()"
   ]
  },
  {
   "cell_type": "markdown",
   "metadata": {},
   "source": [
    "**Observamos que las correlaciones entre las variables son débiles.**"
   ]
  },
  {
   "cell_type": "markdown",
   "metadata": {},
   "source": [
    "### **Gráfico de Contingencia (Heatmap de Variables Categóricas):**\n",
    "\n",
    "Sirve para visualizar la relación entre dos variables categóricas.\n",
    "Ejemplo: Mostrar la relación entre Pclass y Survived."
   ]
  },
  {
   "cell_type": "code",
   "execution_count": null,
   "metadata": {},
   "outputs": [],
   "source": [
    "plt.figure(figsize=(6, 6))\n",
    "contingency_table = pd.crosstab(full_data['Pclass'], full_data['Survived'])\n",
    "sns.heatmap(contingency_table, annot=True, cmap=\"YlGnBu\", fmt=\"d\")\n",
    "plt.title('Relación entre Clase y Supervivencia')\n",
    "plt.xlabel('Sobrevivió')\n",
    "plt.ylabel('Clase')\n",
    "plt.show()"
   ]
  },
  {
   "cell_type": "markdown",
   "metadata": {},
   "source": [
    "# Conclusiones\n",
    "\n",
    "El análisis realizado con diversas visualizaciones gráficas proporcionó una comprensión detallada de los datos sobre los pasajeros. Los histogramas y gráficos categóricos ayudaron a desglosar la distribución de características como la edad, la tarifa, el género y la clase de los pasajeros. Los gráficos de regresión y el heatmap aportaron información sobre las relaciones entre variables, y las visualizaciones adicionales como los FacetGrids permitieron una exploración más profunda de los datos.\n",
    "\n",
    "En general, las conclusiones revelan patrones y relaciones clave entre las variables, proporcionando una base sólida para realizar análisis adicionales o construir modelos predictivos en el futuro.\n",
    "\n",
    "**Gracias y buena suerte**\n"
   ]
  },
  {
   "cell_type": "markdown",
   "metadata": {},
   "source": [
    "### Ejercicio práctico 2\n",
    "\n",
    "***seleccionar la respuesta correcta de las siguientes 5 preguntas sobre las diferencias y características de los diferentes tipos de gráficos para el análisis de un dataset.*** \n",
    "\n",
    "\n",
    "    1. ¿Cuál es la principal diferencia entre un histograma y un KDE plot al mostrar la distribución de una variable numérica?\n",
    "\n",
    "###### a) Un histograma muestra barras que representan frecuencias, mientras que un KDE plot muestra una línea suave que estima la densidad.\n",
    "###### b) Un KDE plot muestra datos categóricos, mientras que un histograma muestra datos numéricos.\n",
    "###### c) Un histograma no muestra la distribución de datos, mientras que un KDE plot sí.\n",
    "###### d) Un KDE plot es una representación 3D de los datos, mientras que un histograma es 2D.\n",
    "\n",
    "\n",
    "    2.¿En qué situación es más útil un boxplot comparado con un violinplot?\n",
    "\n",
    "###### a) Cuando se desea visualizar tanto la densidad como la forma detallada de la distribución.\n",
    "###### b) Cuando se necesita comparar distribuciones entre varias categorías y destacar los cuartiles y los outliers.\n",
    "###### c) Cuando se quiere visualizar la relación entre dos variables numéricas.\n",
    "###### d) Cuando se necesita estimar la tendencia central de una sola variable.\n",
    "\n",
    "    \n",
    "    3.¿Cuál es la característica principal de un swarmplot en comparación con un stripplot?\n",
    "\n",
    "###### a) Ambos gráficos son idénticos en funcionalidad y apariencia.\n",
    "###### b) Un swarmplot ajusta la posición de los puntos para evitar solapamiento, mientras que un stripplot permite que los puntos se superpongan.\n",
    "###### c) Un stripplot se utiliza para visualizar relaciones entre dos variables numéricas, mientras que un swarmplot se utiliza para datos categóricos.\n",
    "###### d) Un stripplot es una visualización 3D de los datos, mientras que un swarmplot es 2D.\n",
    "\n",
    "    4.¿Qué tipo de gráfico es más adecuado para mostrar la tendencia de una variable numérica a lo largo del tiempo?\n",
    "\n",
    "###### a) Scatterplot\n",
    "###### b) Boxplot\n",
    "###### c) Lineplot\n",
    "###### d) Heatmap\n",
    "\n",
    "\n",
    "    5. Observando un heatmap que muestra las correlaciones entre varias variables en un dataset, identificas que la correlación entre la variable 'Edad' y 'Ingreso Mensual' es de -0.75. ¿Qué significa este valor y cómo lo interpretarías en el contexto de un análisis de datos?\n",
    "\n",
    "###### a) Existe una fuerte correlación positiva entre 'Edad' y 'Ingreso Mensual', lo que significa que a medida que aumenta la edad, también aumenta el ingreso mensual.\n",
    "###### b) Existe una fuerte correlación negativa entre 'Edad' y 'Ingreso Mensual', lo que indica que a medida que aumenta la edad, el ingreso mensual tiende a disminuir.\n",
    "###### c) No hay ninguna relación significativa entre 'Edad' y 'Ingreso Mensual', ya que el valor de correlación es cercano a 0.\n",
    "###### d) La correlación entre 'Edad' y 'Ingreso Mensual' no se puede determinar con el valor proporcionado."
   ]
  },
  {
   "cell_type": "markdown",
   "metadata": {},
   "source": [
    "<a id=\"modelos-clasificacion\"></a>\n",
    "\n",
    "# **Capítulo 3: Algoritmos de Clasificación Titanic**\n",
    "\n",
    "Hoy vamos a adentrarnos en una de las áreas más fundamentales y poderosas del aprendizaje automático: la clasificación. Imaginen por un momento que son los responsables de tomar decisiones críticas en una empresa, donde deben determinar si un cliente se quedará o abandonará el servicio, si un correo electrónico es spam o no, o incluso si una transacción es fraudulenta. Todas estas decisiones dependen de la capacidad para clasificar correctamente la información que tienen a su disposición.\n"
   ]
  },
  {
   "cell_type": "markdown",
   "metadata": {},
   "source": [
    "<figure>\n",
    "    <center>\n",
    "        <img src='../Data/Images/titanic_classification.png' width=\"700\" height=\"450\" />\n",
    "        <figcaption></figcaption>\n",
    "    </center>\n",
    "</figure>"
   ]
  },
  {
   "cell_type": "markdown",
   "metadata": {},
   "source": [
    "### **Introducción a la Clasificación Binaria: El Desafío del Titanic**\n",
    "\n",
    "#### ¿Por Qué Clasificación Binaria?\n",
    "\n",
    "La clasificación binaria es un tipo de tarea de aprendizaje automático en la que el objetivo es predecir uno de dos resultados posibles. En el conjunto de datos del Titanic, nuestro objetivo es predecir si un pasajero sobrevivió o no. Este es un ejemplo clásico de un problema de clasificación binaria, donde la variable objetivo es categórica con dos clases: \"Sobrevivió\" y \"No Sobrevivió.\"\n",
    "\n",
    "<figure>\n",
    "<center>\n",
    "<img src='../Data/Images/emoji_clasificacion.png' width=\"550\" height=\"250\" />\n",
    "<figcaption></figcaption></center>\n",
    "</figure>\n",
    "\n",
    "¡Vamos a embarcarnos en este viaje para desentrañar los secretos del conjunto de datos del Titanic y mejorar nuestras habilidades en clasificación binaria!"
   ]
  },
  {
   "cell_type": "code",
   "execution_count": null,
   "metadata": {},
   "outputs": [],
   "source": [
    "full_data.head(3)"
   ]
  },
  {
   "cell_type": "code",
   "execution_count": null,
   "metadata": {},
   "outputs": [],
   "source": [
    "df_0.head(3)"
   ]
  },
  {
   "cell_type": "code",
   "execution_count": null,
   "metadata": {},
   "outputs": [],
   "source": [
    "# Conteo de la variable 'Churn Value'\n",
    "print(df_0[\"Survived\"].value_counts())\n",
    "print(df_0[\"Survived\"].value_counts(10))"
   ]
  },
  {
   "cell_type": "markdown",
   "metadata": {},
   "source": [
    "<span style=\"color: #007BFF; font-size: 24px; font-weight: bold; border: 2px solid #007BFF; padding: 10px; background-color: #EFEFEF; display: block; width: 100%;\">3.1. Conjunto de Entrenamiento y Prueba</span>\n",
    "\n",
    "<figure>\n",
    "<center>\n",
    "<img src='../Data/Images/Entrenamiento_prueba.png' width=\"950\" height=\"400\" />\n",
    "<figcaption></figcaption></center>\n",
    "</figure>\n",
    "\n",
    " 1. **Clientes (Base de Datos)**: Es como una lista de todos tus clientes. Cada cliente tiene información sobre si han cancelado el servicio (churn) o no.\n",
    "\n",
    "**¿Cómo funciona?**\n",
    "\n",
    "* Entrenar: Usamos X_train (información de clientes) y y_train (si cancelaron o no) para enseñar al modelo. Es como cuando practicas para un examen usando algunos ejercicios.\n",
    "\n",
    "* Probar: Luego, usamos X_test (nueva información de clientes) y y_test (resultados reales si cancelaron o no) para ver si el modelo predice correctamente. Es como tomar el examen real después de haber practicado.\n",
    "\n",
    "En resumen, entrenar es como estudiar, y probar es como hacer el examen para ver si aprendiste bien."
   ]
  },
  {
   "cell_type": "code",
   "execution_count": 62,
   "metadata": {},
   "outputs": [],
   "source": [
    "# Separar características y variable objetivo\n",
    "X = df_0.drop(columns=['Survived','Embarked','Embarked_Q']) \n",
    "y = df_0['Survived']"
   ]
  },
  {
   "cell_type": "code",
   "execution_count": 63,
   "metadata": {},
   "outputs": [],
   "source": [
    "# Dividir en conjunto de entrenamiento y prueba\n",
    "X_train, X_test, y_train, y_test = train_test_split(X, y, test_size=0.2, random_state=123)"
   ]
  },
  {
   "cell_type": "code",
   "execution_count": null,
   "metadata": {},
   "outputs": [],
   "source": []
  },
  {
   "cell_type": "markdown",
   "metadata": {},
   "source": [
    "<span style=\"color: #007BFF; font-size: 24px; font-weight: bold; border: 2px solid #007BFF; padding: 10px; background-color: #EFEFEF; display: block; width: 100%;\">3.2. Evaluación de Métricas: Precision, Recall & Accuracy</span>\n",
    "\n",
    "En el contexto de la clasificación binaria, como el análisis del conjunto de datos del Titanic, es crucial evaluar cómo de bien está funcionando nuestro modelo al identificar las instancias correctas. En este ejercicio, estamos particularmente interesados en la métrica de **Recall**. Optimizar el **Recall** es importante porque queremos identificar el mayor número posible de pasajeros que sobrevivieron, lo cual es fundamental para evaluar cómo el modelo puede mejorar la identificación de sobrevivientes.\n",
    "\n",
    "A continuación, se detallan tres métricas importantes:\n",
    "\n",
    "<figure>\n",
    "<center>\n",
    "<img src='../Data/Images/metricas_desempeno.png' width=\"900\" height=\"450\" />\n",
    "<figcaption></figcaption></center>\n",
    "</figure>\n",
    "\n",
    "* **Precision:** ¿De las predicciones positivas de mi algoritmo, cuántas son realmente positivas? En el contexto del Titanic, ¿de todas las veces que el modelo predice que un pasajero sobrevivirá, cuántos realmente sobreviven?\n",
    "\n",
    "* **Recall (Sensibilidad):** ¿De todos los casos actuales, cuántos logra identificar mi algoritmo? De todos los pasajeros que realmente sobrevivieron, ¿cuántos logra identificar correctamente mi modelo?\n",
    "\n",
    "* **Accuracy (Exactitud):** ¿Qué tan bien predice el modelo en general? ¿Cuántas de las predicciones totales son correctas? En el contexto del Titanic, de todas las predicciones que hace el modelo (sobrevivió o no sobrevivió), ¿cuántas son correctas?\n"
   ]
  },
  {
   "cell_type": "markdown",
   "metadata": {},
   "source": [
    "## **Ejercicio práctico 1** \n",
    "\n",
    "**Ejemplo 1: Detección de Defectos en una Línea de Producción de Fabricación**\n",
    "\n",
    "---\n",
    "\n",
    "**Ejemplo 2: Detección de Fraude en Transacciones Bancarias**\n",
    "\n",
    "---\n",
    "\n",
    "**Ejemplo 3: Diagnóstico Médico Automatizado**\n",
    "\n",
    "---\n",
    "\n",
    " **Ejemplo 4: Filtrado de Correos Electrónicos (Spam)**\n",
    "\n",
    "---\n",
    "\n",
    " **Ejemplo 5: Sistema de Recomendación de Contenido**\n"
   ]
  },
  {
   "cell_type": "markdown",
   "metadata": {},
   "source": [
    "<span style=\"color: #007BFF; font-size: 24px; font-weight: bold; border: 2px solid #007BFF; padding: 10px; background-color: #EFEFEF; display: block; width: 100%;\">3.4.1 Regresión Logística </span>\n",
    "\n",
    "<figure>\n",
    "<center>\n",
    "<img src='../Data/Images/logistic_regression.png' width=\"800\" height=\"400\" />\n",
    "<figcaption></figcaption></center>\n",
    "</figure>\n",
    "\n",
    "La **regresión logística** es un modelo estadístico utilizado para predecir la probabilidad de una variable dependiente categórica, generalmente binaria. A diferencia de la regresión lineal, que se utiliza para variables continuas, la regresión logística estima la probabilidad de que un evento ocurra mediante una función logística, que transforma la salida lineal del modelo en una probabilidad entre 0 y 1. Esta técnica es ampliamente utilizada en problemas de clasificación, como la detección de fraude, diagnóstico médico y análisis de mercado.\n",
    "\n",
    "En el contexto de aprendizaje automático, la regresión logística es valorada por su simplicidad y eficacia. Aunque se basa en un supuesto de relación lineal entre las características y la probabilidad de la clase positiva, su capacidad para manejar variables independientes e interpretar la importancia de las características la hace útil en una variedad de aplicaciones. La salida del modelo puede ser interpretada como una probabilidad, lo que facilita la toma de decisiones basadas en umbrales de probabilidad ajustables.\n",
    "\n",
    "### **Entrenamiento del modelo**"
   ]
  },
  {
   "cell_type": "code",
   "execution_count": null,
   "metadata": {},
   "outputs": [],
   "source": [
    "# Entrenar modelo de regresión logística\n",
    "model = LogisticRegression(max_iter=2000)\n",
    "model.fit(X_train, y_train)"
   ]
  },
  {
   "cell_type": "code",
   "execution_count": 65,
   "metadata": {},
   "outputs": [],
   "source": [
    "# Predicciones\n",
    "y_pred_train_lr = model.predict(X_train)\n",
    "y_pred_test_lr = model.predict(X_test)"
   ]
  },
  {
   "cell_type": "code",
   "execution_count": 66,
   "metadata": {},
   "outputs": [],
   "source": [
    "def compute_metrics(y_train_true, y_train_pred, y_test_true, y_test_pred):\n",
    "    \n",
    "    # Accuracy for training and test set\n",
    "    accuracy_train = round(100.0 * accuracy_score(y_train_true, y_train_pred), 2)\n",
    "    accuracy_test = round(100.0 * accuracy_score(y_test_true, y_test_pred), 2)\n",
    "    \n",
    "    # Compute the classification report\n",
    "    report_test = classification_report(y_test_true, y_test_pred, output_dict=True)\n",
    "    report_train = classification_report(y_train_true, y_train_pred, output_dict=True)\n",
    "    \n",
    "    # Extract precision, recall score for class 1\n",
    "    precision_train = round(report_train['1']['precision'], 3)\n",
    "    recall_train = round(report_train['1']['recall'], 3)\n",
    "\n",
    "    precision_test = round(report_test['1']['precision'], 3)\n",
    "    recall_test = round(report_test['1']['recall'], 3)\n",
    "    \n",
    "    # Create a DataFrame with the metrics\n",
    "    metrics_df = pd.DataFrame({\n",
    "        'accuracy': [accuracy_train, accuracy_test],\n",
    "        'precision': [precision_train, precision_test],\n",
    "        'recall': [recall_train, recall_test]\n",
    "    }, index=['train', 'test'])\n",
    "    \n",
    "    return metrics_df\n",
    "\n",
    "\n",
    "def plot_confusion_matrices_and_reports(y_train_true, y_train_pred, y_test_true, y_test_pred):\n",
    "    \n",
    "    # Calculate metrics\n",
    "    metrics_df = compute_metrics(y_train_true, y_train_pred, y_test_true, y_test_pred)\n",
    "\n",
    "    # Evaluation for the training set\n",
    "    train_conf_matrix = confusion_matrix(y_train_true, y_train_pred)\n",
    "    \n",
    "    # Evaluation for the test set\n",
    "    test_conf_matrix = confusion_matrix(y_test_true, y_test_pred)\n",
    "    \n",
    "    def plot_confusion_matrix(cm, metrics, title='Matriz de Confusión', cmap=plt.cm.Blues):\n",
    "        fig, axes = plt.subplots(1, 2, figsize=(8, 4))\n",
    "\n",
    "        # Plot confusion matrix\n",
    "        sns.heatmap(cm, annot=True, fmt='d', cmap=cmap, \n",
    "                    xticklabels=['No Sobr.', 'Sobr.'], \n",
    "                    yticklabels=['No Sobr.', 'Sobr.'], ax=axes[0])\n",
    "        axes[0].set_title(title)\n",
    "        axes[0].set_xlabel('Predicción')\n",
    "        axes[0].set_ylabel('Real')\n",
    "\n",
    "        # Formatea las métricas en una cadena de texto\n",
    "        metrics_text = f\"Accuracy: {metrics['accuracy']/100:.3f} - ({metrics['accuracy']:.1f}%)\\n\"\n",
    "        metrics_text += f\"Precision: {metrics['precision']:.3f} - ({metrics['precision']*100:.1f}%)\\n\"\n",
    "        metrics_text += f\"Recall: {metrics['recall']:.3f} - ({metrics['recall']*100:.1f}%)\\n\"\n",
    "        \n",
    "        # Añade el texto formateado\n",
    "        axes[1].axis('off')\n",
    "        axes[1].text(0.5, 0.5, metrics_text, horizontalalignment='center', \n",
    "                    verticalalignment='center', fontsize=12)\n",
    "\n",
    "        plt.tight_layout()\n",
    "        plt.show()\n",
    "\n",
    "    # Plot confusion matrix and report for training set\n",
    "    plot_confusion_matrix(train_conf_matrix, metrics_df.loc['train'], title='Matriz de Confusión - Entrenamiento',  cmap=plt.cm.Blues)\n",
    "\n",
    "    # Plot confusion matrix and report for test set\n",
    "    plot_confusion_matrix(test_conf_matrix, metrics_df.loc['test'], title='Matriz de Confusión - Prueba', cmap=plt.cm.Greens)"
   ]
  },
  {
   "cell_type": "code",
   "execution_count": null,
   "metadata": {},
   "outputs": [],
   "source": [
    "# Comparando resultados en conjunto de Entrenamiento vs Prueba\n",
    "plot_confusion_matrices_and_reports(y_train, y_pred_train_lr, y_test, y_pred_test_lr)"
   ]
  },
  {
   "cell_type": "markdown",
   "metadata": {},
   "source": [
    "<span style=\"color: #007BFF; font-size: 24px; font-weight: bold; border: 2px solid #007BFF; padding: 10px; background-color: #EFEFEF; display: block; width: 100%;\">3.4.2 Árboles de Decisión </span>\n",
    "\n",
    "<figure>\n",
    "<center>\n",
    "<img src='../Data/Images/decision_tree.png' width=\"600\" height=\"300\" />\n",
    "<figcaption></figcaption></center>\n",
    "</figure>\n",
    "\n",
    "Un **árbol de decisión** es un modelo de aprendizaje automático utilizado para tareas de clasificación y regresión. En problemas de clasificación binaria, se usa para predecir a qué una de dos clases pertenece una muestra. El algoritmo divide los datos en nodos basados en preguntas sobre características específicas, con nodos internos representando las pruebas y nodos de hoja mostrando las clasificaciones finales. Utiliza criterios como la **impureza de Gini** o la **entropía** para decidir cómo dividir los datos. Sus ventajas incluyen una alta **interpretabilidad** y la no necesidad de normalización de datos, pero puede sufrir de **sobreajuste** y sensibilidad a pequeñas variaciones. Es útil para clasificar datos en dos categorías de manera clara y comprensible.\n",
    "\n",
    "\n",
    "\n",
    "\n",
    "## **Entrenamiendo del Modelo**"
   ]
  },
  {
   "cell_type": "code",
   "execution_count": null,
   "metadata": {},
   "outputs": [],
   "source": [
    "# Entrenar el árbol de decisión con un límite de profundidad\n",
    "clf = DecisionTreeClassifier(max_depth=3, random_state=0)\n",
    "clf.fit(X_train, y_train)"
   ]
  },
  {
   "cell_type": "code",
   "execution_count": 69,
   "metadata": {},
   "outputs": [],
   "source": [
    "# Predicciones\n",
    "y_pred_train_dt = clf.predict(X_train)\n",
    "y_pred_test_dt = clf.predict(X_test)"
   ]
  },
  {
   "cell_type": "markdown",
   "metadata": {},
   "source": [
    "<figure>\n",
    "<center>\n",
    "<img src='../Data/Images/arbol_titanic.png' width=\"1200\" height=\"600\" />\n",
    "<figcaption></figcaption></center>\n",
    "</figure>\n"
   ]
  },
  {
   "cell_type": "code",
   "execution_count": null,
   "metadata": {},
   "outputs": [],
   "source": [
    "# Configurar el tamaño de la figura\n",
    "plt.figure(figsize=(24, 6))\n",
    "plt.gcf().patch.set_facecolor('lightgrey')\n",
    "\n",
    "# Visualizar el árbol de decisión\n",
    "plot_tree(clf, \n",
    "          filled=True, \n",
    "          feature_names=X_train.columns, \n",
    "          class_names=['No Sobreviviente', 'Sobreviviente'], \n",
    "          rounded=True, \n",
    "          fontsize=10)  \n",
    "\n",
    "plt.title('Árbol de Decisión - TITANIC')\n",
    "plt.show()"
   ]
  },
  {
   "cell_type": "code",
   "execution_count": null,
   "metadata": {},
   "outputs": [],
   "source": [
    "# Comparando resultados en conjunto de Entrenamiento vs Prueba\n",
    "plot_confusion_matrices_and_reports(y_train, y_pred_train_dt, y_test, y_pred_test_dt)    "
   ]
  },
  {
   "cell_type": "markdown",
   "metadata": {},
   "source": [
    "<span style=\"color: #007BFF; font-size: 24px; font-weight: bold; border: 2px solid #007BFF; padding: 10px; background-color: #EFEFEF; display: block; width: 100%;\">3.4.3. Random Forest </span>\n",
    "\n",
    "<figure>\n",
    "<center>\n",
    "<img src='../Data/Images/random_forest_2.png?raw=tru' width=\"550\" height=\"350\" />\n",
    "<figcaption></figcaption></center>\n",
    "</figure>\n",
    "\n",
    "Un Random Forest es un modelo de aprendizaje automático que usa un grupo de árboles de decisión para hacer predicciones.\n",
    "\n",
    "**¿Cómo funciona?**\n",
    "\n",
    "1. Árboles de Decisión: Un árbol de decisión toma decisiones de forma jerárquica, dividiendo los datos en diferentes categorías basadas en características.\n",
    "\n",
    "2. Bosque Aleatorio: En lugar de un solo árbol, Random Forest crea muchos árboles de decisión (un \"bosque\") y los combina para hacer una predicción más precisa y estable.\n",
    "\n",
    "3. Promedio de Resultados: Para la clasificación, el modelo vota por la categoría más común entre los árboles. Para la regresión, promedia las predicciones de todos los árboles.\n",
    "\n",
    "Ventajas\n",
    "\n",
    "* Menos Riesgo de Sobreajuste: Combina múltiples árboles, lo que reduce el riesgo de que el modelo se ajuste demasiado a los datos de entrenamiento.\n",
    "* Precisión Mejorada: Generalmente, proporciona predicciones más precisas que un solo árbol de decisión.\n",
    "* En resumen, Random Forest es como pedir la opinión de muchos expertos (árboles de decisión) y tomar una decisión basada en la mayoría.\n",
    "\n",
    "\n",
    "### **Entrenamiento del modelo**"
   ]
  },
  {
   "cell_type": "code",
   "execution_count": null,
   "metadata": {},
   "outputs": [],
   "source": [
    "## Generación del modelo\n",
    "rf_model = RandomForestClassifier(random_state = 120, n_estimators=22, max_samples=0.6, max_depth=5)\n",
    "rf_model.fit(X_train, y_train)"
   ]
  },
  {
   "cell_type": "code",
   "execution_count": 73,
   "metadata": {},
   "outputs": [],
   "source": [
    "# Predicciones\n",
    "y_pred_train_rf = rf_model.predict(X_train)\n",
    "y_pred_test_rf = rf_model.predict(X_test)"
   ]
  },
  {
   "cell_type": "code",
   "execution_count": null,
   "metadata": {},
   "outputs": [],
   "source": [
    "# Comparando resultados en conjunto de Entrenamiento vs Prueba\n",
    "plot_confusion_matrices_and_reports(y_train, y_pred_train_rf, y_test, y_pred_test_rf)  "
   ]
  },
  {
   "cell_type": "code",
   "execution_count": null,
   "metadata": {},
   "outputs": [],
   "source": [
    "# Gráfico de las variables mas relevantes\n",
    "df_imp_rf = pd.DataFrame(rf_model.feature_importances_.reshape(1,-1), \n",
    "                         columns=X_train.columns, \n",
    "                         index=[\"Feature Importances\"])\n",
    "\n",
    "# Transpose and sort by feature importance\n",
    "df_imp_rf = df_imp_rf.T.sort_values(by=\"Feature Importances\", ascending=True)\n",
    "\n",
    "# Increase the figure size and reduce the font size for y-axis labels\n",
    "plt.figure(figsize=(12, 8))  # Adjust the figsize as needed\n",
    "ax = df_imp_rf.plot.barh(legend=False)\n",
    "\n",
    "# Set smaller font size for the y-axis labels\n",
    "ax.set_yticklabels(df_imp_rf.index, fontsize=10)  # Adjust fontsize as needed\n",
    "\n",
    "plt.xlabel('Feature Importance')\n",
    "plt.title('Feature Importances Sorted')\n",
    "plt.show()"
   ]
  },
  {
   "cell_type": "code",
   "execution_count": null,
   "metadata": {},
   "outputs": [],
   "source": []
  },
  {
   "cell_type": "markdown",
   "metadata": {},
   "source": [
    "<span style=\"color: #007BFF; font-size: 24px; font-weight: bold; border: 2px solid #007BFF; padding: 10px; background-color: #EFEFEF; display: block; width: 100%;\">3.5. Comparación Modelos </span>\n",
    "\n",
    "Ahora, vamos a contruir un dataframe unificado con las metricas que hemos calculado y guardado para cada modelo con el fin de poder comparar:"
   ]
  },
  {
   "cell_type": "code",
   "execution_count": 76,
   "metadata": {},
   "outputs": [],
   "source": [
    "# Métricas para Regresión Logística\n",
    "metrics_lr = compute_metrics(y_train, y_pred_train_lr, y_test, y_pred_test_lr)\n",
    "\n",
    "# Métricas para Random Forest\n",
    "metrics_rf = compute_metrics(y_train, y_pred_train_rf, y_test, y_pred_test_rf)\n",
    "\n",
    "# Métricas para Decision Tree\n",
    "metrics_dt = compute_metrics(y_train, y_pred_train_dt, y_test, y_pred_test_dt)"
   ]
  },
  {
   "cell_type": "code",
   "execution_count": null,
   "metadata": {},
   "outputs": [],
   "source": [
    "# Creación de un DataFrame unificado con las métricas de cada modelo construido\n",
    "models_summary = pd.DataFrame({\n",
    "    'Model': ['Logistic Regression', 'Random Forest Clasiffier', 'Decision Tree'],\n",
    "    'Accuracy Train': [metrics_lr.loc['train', 'accuracy'], metrics_rf.loc['train', 'accuracy'], metrics_dt.loc['train', 'accuracy']],\n",
    "    'Accuracy Test': [metrics_lr.loc['test', 'accuracy'], metrics_rf.loc['test', 'accuracy'], metrics_dt.loc['test', 'accuracy']],\n",
    "    'Precision Sobrevivientes': [metrics_lr.loc['train', 'precision'], metrics_rf.loc['train', 'precision'], metrics_dt.loc['train', 'precision']],\n",
    "    'Recall Sobrevivientes': [metrics_lr.loc['train', 'recall'], metrics_rf.loc['train', 'recall'], metrics_dt.loc['train', 'recall']]\n",
    "})\n",
    "\n",
    "# Ordenar el DataFrame por la columna de Recall\n",
    "models_summary.sort_values(by='Recall Sobrevivientes', ascending=False)"
   ]
  },
  {
   "cell_type": "markdown",
   "metadata": {},
   "source": [
    "Con base en los resultados de la tabla, se pueden extraer las siguientes conclusiones concretas:\n",
    "\n",
    "1. **Árbol de Decisión**: Este modelo ofrece un buen equilibrio entre todas las métricas, con un **recall de 0.722** para los sobrevivientes, lo que significa que identifica correctamente el 72% de los sobrevivientes. Aunque su precisión es más baja que la del clasificador Random Forest, el mayor valor de recall sugiere que es menos probable que pase por alto a los sobrevivientes, lo cual es crucial en el contexto del Titanic.\n",
    "\n",
    "2. **Regresión Logística**: A pesar de que tiene el mismo **Accuracy Test (82.12%)** que el Árbol de Decisión, su **recall (0.700)** es ligeramente menor, lo que implica que identifica menos sobrevivientes en comparación con el Árbol de Decisión. Esto lo hace menos adecuado si el objetivo principal es capturar la mayor cantidad de sobrevivientes.\n",
    "\n",
    "3. **Random Forest Classifier**: Este modelo tiene el mejor **Accuracy Test (84.92%)** y la mayor **precisión (0.88)**, lo que indica que, de las predicciones de sobrevivencia que hace, la mayoría son correctas. Sin embargo, tiene un **recall más bajo (0.738)** en comparación con el Árbol de Decisión, lo que sugiere que no detecta tantos sobrevivientes como el modelo de Árbol de Decisión. Esto podría resultar en que algunos sobrevivientes no sean identificados por este modelo.\n",
    "\n",
    "### Conclusión\n",
    "\n",
    "El modelo de **Árbol de Decisión** es la opción más adecuada en este contexto, ya que maximiza el **recall**, asegurando que la mayor cantidad de sobrevivientes posibles sean identificados. Aunque otros modelos presentan un mayor accuracy y precisión, el enfoque en el recall es crítico para minimizar el riesgo de pasar por alto a sobrevivientes."
   ]
  },
  {
   "cell_type": "markdown",
   "metadata": {},
   "source": [
    "<span style=\"color: #007BFF; font-size: 24px; font-weight: bold; border: 2px solid #007BFF; padding: 10px; background-color: #EFEFEF; display: block; width: 100%;\">3.6. Calificación de una nueva base </span>\n"
   ]
  },
  {
   "cell_type": "markdown",
   "metadata": {},
   "source": [
    "### **Ejercicio práctico 2:** \n",
    "\n",
    "Mencione algunos de los pasos necesarios (3 o más), antes de calificar una nueva base?, Explique en que consisten "
   ]
  },
  {
   "cell_type": "markdown",
   "metadata": {},
   "source": [
    "\n",
    "<figure>\n",
    "<center>\n",
    "<img src='https://historysshadow.wordpress.com/wp-content/uploads/2014/09/arcona.jpg' width=\"600\" height=\"300\" />\n",
    "<figcaption></figcaption></center>\n",
    "</figure>\n",
    "\n"
   ]
  },
  {
   "cell_type": "code",
   "execution_count": 78,
   "metadata": {},
   "outputs": [],
   "source": [
    "new_data = pd.read_csv('../Data/Inputs/New_data.csv')"
   ]
  },
  {
   "cell_type": "code",
   "execution_count": null,
   "metadata": {},
   "outputs": [],
   "source": [
    "print(new_data.shape)\n",
    "print(\"\")\n",
    "#Crear un DataFrame con el resumen\n",
    "summary_df = pd.DataFrame({\n",
    "    'Valores Nulos': new_data.isnull().sum(),\n",
    "    'Valores Únicos': new_data.nunique(),\n",
    "    'Tipo de Dato': new_data.dtypes\n",
    "})\n",
    "\n",
    "# Mostrar la tabla\n",
    "print(summary_df)\n",
    "print(\"\")\n",
    "new_data.head()"
   ]
  },
  {
   "cell_type": "markdown",
   "metadata": {},
   "source": [
    "Para calificar la nueva base de datos de pasajeros del Titanic, es fundamental aplicar una serie de transformaciones que aseguren la coherencia y calidad de los datos, así como su compatibilidad con el modelo de predicción entrenado. A continuación, se describen las transformaciones necesarias:\n",
    "\n",
    "1. **Categoría Ordinal para 'Pclass'**: Convertimos la columna `Pclass` a una categoría ordinal para reflejar el orden natural de las clases (1, 2, 3), lo cual es importante para que el modelo interprete correctamente esta variable.\n",
    "\n",
    "2. **Imputación de Edad por Promedio de Clase y Género**: Aplicamos una función de imputación que rellena los valores faltantes de la columna `Age` utilizando la media de edad de cada combinación de clase y género, mejorando así la precisión de las predicciones al mantener patrones realistas de edad.\n",
    "\n",
    "3. **Manejo de Valores Faltantes en 'Fare'**: Filtramos los registros que contienen valores nulos en `Fare`, ya que esta variable es crucial para la predicción y no puede contener valores faltantes.\n",
    "\n",
    "4. **One-Hot Encoding para 'Embarked'**: Realizamos una codificación one-hot en la columna `Embarked` para convertirla en variables binarias, facilitando la interpretación de esta variable categórica por parte del modelo. Rellenamos los valores faltantes con la moda antes de aplicar la codificación.\n",
    "\n",
    "5. **Label Encoding para 'Sex'**: Codificamos la variable `Sex` usando un Label Encoder para transformar los valores categóricos en números, permitiendo que el modelo interprete la información de género.\n",
    "\n",
    "6. **Eliminación de Variables Irrelevantes**: Eliminamos columnas como `PassengerId`, `Name`, `Ticket`, `Cabin` y `Embarked` (ya codificada), ya que no son necesarias para el modelo y podrían introducir ruido en la predicción.\n",
    "\n",
    "7. **Tratamiento de outliers para variable Fare**: se utilizan métodos a partir de rangos intercuartilicos para transformación de outliers.\n",
    "\n",
    "Estas transformaciones son esenciales para preparar los datos de entrada de manera que sean consistentes con el conjunto de datos de entrenamiento del modelo, mejorando así la precisión y utilidad de las predicciones.\n"
   ]
  },
  {
   "cell_type": "code",
   "execution_count": 80,
   "metadata": {},
   "outputs": [],
   "source": [
    "# variable categorica ordinal Pclass\n",
    "pclass_categories = [1, 2, 3]  # Define el orden de las clases\n",
    "new_data['Pclass'] = pd.Categorical(new_data['Pclass'], categories=pclass_categories, ordered=True) \n",
    "\n",
    "#imputación edad por promedio Clase y género\n",
    "new_data['Age'] = new_data.groupby(['Sex', 'Pclass'])['Age'].transform(lambda x: x.fillna(x.median()))\n",
    "\n",
    "# filtramos valores na para Fare\n",
    "new_data = new_data[new_data.Fare.notna()]\n",
    "\n",
    "# Aplicamos One Hot Encoding a la columna 'Embarked'\n",
    "new_data['Embarked'] = new_data['Embarked'].fillna(new_data['Embarked'].mode()[0])\n",
    "embarked_dummies = pd.get_dummies(new_data['Embarked'], prefix='Embarked')\n",
    "new_data = pd.concat([new_data, embarked_dummies], axis=1)\n",
    "\n",
    "# label encoder variable género\n",
    "cat_features = ['Sex']\n",
    "# Codificar variables categóricas\n",
    "label_encoders = {}\n",
    "for col in cat_features:\n",
    "    le = LabelEncoder()\n",
    "    new_data[col] = le.fit_transform(new_data[col].astype(str))\n",
    "    label_encoders[col] = le\n",
    "\n",
    "# Eliminamos variables no necesarias para la calificación de nuestro árbol de decisión\n",
    "new_data_00 = new_data.drop(columns=['PassengerId','Name','Ticket','Cabin','Embarked','Embarked_Q']) "
   ]
  },
  {
   "cell_type": "code",
   "execution_count": null,
   "metadata": {},
   "outputs": [],
   "source": [
    "print(new_data_00.shape)\n",
    "print(\"\")\n",
    "print(new_data_00.isnull().sum())\n",
    "print(\"\")\n",
    "new_data_00.head()"
   ]
  },
  {
   "cell_type": "markdown",
   "metadata": {},
   "source": [
    "## **Predicción de nuevos datos transformados**"
   ]
  },
  {
   "cell_type": "code",
   "execution_count": 82,
   "metadata": {},
   "outputs": [],
   "source": [
    "y_prob_new_Ship = clf.predict_proba(new_data_00)[:, 1]\n",
    "y_pred_new_Ship = clf.predict(new_data_00)"
   ]
  },
  {
   "cell_type": "code",
   "execution_count": null,
   "metadata": {
    "scrolled": true
   },
   "outputs": [],
   "source": [
    "# Agregar las probabilidades al DataFrame\n",
    "new_data['Probabilidad_Supervivencia'] = y_prob_new_Ship\n",
    "new_data['Prediccion'] = y_pred_new_Ship\n",
    "\n",
    "new_data.head(20)"
   ]
  },
  {
   "cell_type": "markdown",
   "metadata": {},
   "source": [
    "# Análisis de Supervivencia de Pasajeros del Titanic\n",
    "\n",
    "Basado en los resultados de la predicción para los nuevos pasajeros del Titanic, se pueden extraer algunas conclusiones relevantes sobre las probabilidades de supervivencia según diferentes características demográficas y socioeconómicas:\n",
    "\n",
    "1. **Mujeres en Primera Clase**:  \n",
    "   Las pasajeras femeninas que viajan en primera clase presentan las probabilidades de supervivencia más altas. Por ejemplo, `Snyder, Mrs. John Pillsbury` y `Chaffee, Mrs. Herbert Fuller`, ambas en primera clase, tienen una probabilidad de supervivencia del 100%. Esto refleja el patrón histórico de priorización de mujeres y niños durante las evacuaciones, junto con las mejores condiciones de seguridad de la primera clase.\n",
    "\n",
    "2. **Pasajeros de Clase Baja y de Sexo Masculino**:  \n",
    "   Los hombres que viajan en tercera clase tienen las probabilidades de supervivencia más bajas. Por ejemplo, `Kelly, Mr. James`, un hombre en tercera clase, tiene una probabilidad de supervivencia de solo 6.1%. Esto está en línea con la historia del Titanic, donde los hombres en tercera clase tuvieron una tasa de supervivencia significativamente más baja, debido a factores como el acceso limitado a los botes salvavidas y las políticas de evacuación de la época.\n",
    "\n",
    "3. **Efecto del Género y Clase en la Supervivencia**:  \n",
    "   De manera general, las mujeres tienen mayores probabilidades de sobrevivir en comparación con los hombres, independientemente de la clase en la que viajan. Por ejemplo, `Hirvonen, Mrs. Alexander` (mujer, tercera clase) tiene una probabilidad de supervivencia de 61.5%, en contraste con `Wirz, Mr. Albert` (hombre, tercera clase) cuya probabilidad de supervivencia es de solo 13.5%. Este hallazgo subraya cómo tanto el género como la clase son factores cruciales en la determinación de las probabilidades de supervivencia.\n",
    "\n",
    "4. **Pasajeros con Familiares a Bordo**:  \n",
    "   Algunos pasajeros con familiares a bordo (reflejados en las columnas `SibSp` y `Parch`), como `Wilkes, Mrs. James`, tienen baja probabilidad de supervivencia (0%), lo que puede sugerir que el tamaño del grupo familiar no siempre correlaciona con una mayor o menor probabilidad de supervivencia en este conjunto de datos, posiblemente debido a factores de confusión como el género y la clase.\n",
    "\n",
    "5. **Pasajeros con Tarifa Baja**:  \n",
    "   Aquellos pasajeros con tarifas más bajas, como `Assaf, Mr. Gerios` (7.2250) y `Assaf Khalil, Mrs. Mariana` (7.2250), tienen probabilidades de supervivencia muy bajas (0% y 13.5%, respectivamente). Esto indica una correlación entre tarifas bajas y menores probabilidades de supervivencia, lo que podría estar relacionado con su ubicación en el barco y la velocidad a la que se les permitió evacuar.\n",
    "\n",
    "Estas conclusiones refuerzan el conocimiento histórico y social sobre los factores que influyeron en las tasas de supervivencia del Titanic y subrayan la importancia de las características demográficas, como el género y la clase social, en la determinación de los resultados de supervivencia.\n"
   ]
  },
  {
   "cell_type": "markdown",
   "metadata": {},
   "source": [
    "\n",
    "<figure>\n",
    "<center>\n",
    "<img src='https://ichef.bbci.co.uk/ace/ws/800/cpsprodpb/48F4/production/_107767681_5-1.jpg.webp' width=\"800\" height=\"400\" />\n",
    "<figcaption></figcaption></center>\n",
    "</figure>\n"
   ]
  }
 ],
 "metadata": {
  "kernelspec": {
   "display_name": "legacy",
   "language": "python",
   "name": "python3"
  },
  "language_info": {
   "codemirror_mode": {
    "name": "ipython",
    "version": 3
   },
   "file_extension": ".py",
   "mimetype": "text/x-python",
   "name": "python",
   "nbconvert_exporter": "python",
   "pygments_lexer": "ipython3",
   "version": "3.12.1"
  }
 },
 "nbformat": 4,
 "nbformat_minor": 4
}
